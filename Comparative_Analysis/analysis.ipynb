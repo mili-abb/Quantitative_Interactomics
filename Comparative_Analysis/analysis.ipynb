{
 "cells": [
  {
   "cell_type": "markdown",
   "id": "d998554e",
   "metadata": {},
   "source": [
    "# SRC and HCK Interaction Analysis Pipeline"
   ]
  },
  {
   "cell_type": "markdown",
   "id": "65e1ef5d",
   "metadata": {},
   "source": [
    "### 1. Library Imports and Setup"
   ]
  },
  {
   "cell_type": "code",
   "execution_count": null,
   "id": "1f915803",
   "metadata": {},
   "outputs": [],
   "source": [
    "import main as main"
   ]
  },
  {
   "cell_type": "code",
   "execution_count": null,
   "id": "5a71a087",
   "metadata": {},
   "outputs": [],
   "source": [
    "main.main() \n",
    "\n",
    "#TERMINAL COMMANDS\n",
    "# To run this script, save it as `main.py` and execute the following command in the terminal:\n",
    "# python3 main.py\n"
   ]
  },
  {
   "cell_type": "markdown",
   "id": "a70c17bd",
   "metadata": {},
   "source": [
    "### 2. Data loading and complexome analysis for each bait"
   ]
  },
  {
   "cell_type": "code",
   "execution_count": null,
   "id": "f6bcc291",
   "metadata": {},
   "outputs": [],
   "source": [
    "# Human SRC\n",
    "filepath = \"input/human_src_data.csv\"\n",
    "output_path = \"output/human_src_data.csv\"\n",
    "\n",
    "df_raw= main.read_csv_file(filepath, header=0)\n",
    "species, bait = main.extract_species_bait(filepath)\n",
    "print(f\"Species : {species} , Bait: {bait}\")\n",
    "bait_conc = main.get_bait_concentration(df_raw, filepath)\n",
    "df = main.calculate_Kapp(df_raw)\n",
    "df = main.calculate_complexome(df,filepath)\n",
    "df = main.log_scale(df)\n",
    "main.save_csv_file(df, output_path)\n",
    "\n",
    "# Human HCK\n",
    "filepath = \"input/human_hck_data.csv\"\n",
    "output_path = \"output/human_hck_data.csv\"\n",
    "\n",
    "df_raw= main.read_csv_file(filepath, header=0)\n",
    "species, bait = main.extract_species_bait(filepath)\n",
    "print(f\"Species : {species} , Bait: {bait}\")\n",
    "bait_conc = main.get_bait_concentration(df_raw, filepath)\n",
    "df = main.calculate_Kapp(df_raw)\n",
    "df = main.calculate_complexome(df,filepath)\n",
    "df = main.log_scale(df)\n",
    "main.save_csv_file(df, output_path)\n",
    "\n",
    "# Mouse SRC\n",
    "filepath = \"input/mouse_src_data.csv\"\n",
    "output_path = \"output/mouse_src_data.csv\"\n",
    "\n",
    "df_raw= main.read_csv_file(filepath, header=0)\n",
    "species, bait = main.extract_species_bait(filepath)\n",
    "print(f\"Species : {species} , Bait: {bait}\")\n",
    "bait_conc = main.get_bait_concentration(df_raw, filepath)\n",
    "df = main.calculate_Kapp(df_raw)\n",
    "df = main.calculate_complexome(df,filepath)\n",
    "df = main.log_scale(df)\n",
    "main.save_csv_file(df, output_path)\n",
    "\n",
    "# Mouse HCK\n",
    "filepath = \"input/mouse_hck_data.csv\"\n",
    "output_path = \"output/mouse_hck_data.csv\"\n",
    "\n",
    "df_raw= main.read_csv_file(filepath, header=0)\n",
    "species, bait = main.extract_species_bait(filepath)\n",
    "print(f\"Species : {species} , Bait: {bait}\")\n",
    "bait_conc = main.get_bait_concentration(df_raw, filepath)\n",
    "df = main.calculate_Kapp(df_raw)\n",
    "df = main.calculate_complexome(df,filepath)\n",
    "df = main.log_scale(df)\n",
    "main.save_csv_file(df, output_path)"
   ]
  },
  {
   "cell_type": "markdown",
   "id": "3e525ab7",
   "metadata": {},
   "source": [
    "### 3. Merge dataframe for comparative analysis"
   ]
  },
  {
   "cell_type": "code",
   "execution_count": null,
   "id": "0167463d",
   "metadata": {},
   "outputs": [],
   "source": [
    "file_list = [\"output/human_src_data.csv\", \"output/human_hck_data.csv\", \"output/mouse_src_data.csv\", \"output/mouse_hck_data.csv\"]  # adjust paths if needed\n",
    "output_path = \"output/merged.csv\"\n",
    "\n",
    "df_merged = main.merge_files(file_list, output_path)\n",
    "df = main.calculate_deltapKapp(df_merged)\n",
    "df = main.calculate_complexome_difference(df)\n",
    "df = main.log_delta(df)\n",
    "df = main.calculate_intraspecies_log_complexome_ratio(df)\n",
    "df= main.group_columns_by_species(df)\n",
    "main.save_csv_file(df, output_path)"
   ]
  },
  {
   "cell_type": "markdown",
   "id": "de31b526",
   "metadata": {},
   "source": [
    "### 4. Visualize the data"
   ]
  },
  {
   "cell_type": "markdown",
   "id": "bd842f84",
   "metadata": {},
   "source": [
    "##### \n",
    "- Venn diagrams : Number of significant binding partners."
   ]
  },
  {
   "cell_type": "code",
   "execution_count": null,
   "id": "38c79b70",
   "metadata": {},
   "outputs": [],
   "source": [
    "df_path = \"output/merged.csv\"\n",
    "df = main.read_csv_file(df_path, header=[0, 1, 2])\n",
    "output= \"output/venn_diagrams\"\n",
    "\n",
    "df = main.plot_venn_diagram(df, output)"
   ]
  },
  {
   "cell_type": "markdown",
   "id": "c23a7cd1",
   "metadata": {},
   "source": [
    "##### \n",
    "- Plots showing the evolution of complexe formation depending on affinity and availability of binding partners."
   ]
  },
  {
   "cell_type": "code",
   "execution_count": null,
   "id": "184513a0",
   "metadata": {},
   "outputs": [],
   "source": [
    "# Plots showing the evolution of complexe formation # Load the DataFrame properly\n",
    "df_path = \"output/merged.csv\"\n",
    "df = main.read_csv_file(df_path, header=[0, 1, 2])  # MultiIndex columns expected\n",
    "\n",
    "# Define output directory\n",
    "output = \"output/complexome_analysis\"\n",
    "\n",
    "# Now call the function\n",
    "main.plot_complexome_analysis(df, output)"
   ]
  },
  {
   "cell_type": "markdown",
   "id": "a1cfe563",
   "metadata": {},
   "source": [
    "##### \n",
    "- Linear Regrassion Plots for comparative analysis"
   ]
  },
  {
   "cell_type": "code",
   "execution_count": null,
   "id": "bf8e980f",
   "metadata": {},
   "outputs": [],
   "source": [
    "df_path = \"output/merged.csv\"\n",
    "df = main.read_csv_file(df_path, header=[0, 1, 2])  \n",
    "\n",
    "# Define output directory\n",
    "output = \"output/Linear_regression\"\n",
    "\n",
    "df = main.analyze_and_plot_correlation(df, annotate_genes=False)"
   ]
  }
 ],
 "metadata": {
  "kernelspec": {
   "display_name": "base",
   "language": "python",
   "name": "python3"
  },
  "language_info": {
   "codemirror_mode": {
    "name": "ipython",
    "version": 3
   },
   "file_extension": ".py",
   "mimetype": "text/x-python",
   "name": "python",
   "nbconvert_exporter": "python",
   "pygments_lexer": "ipython3",
   "version": "3.12.2"
  }
 },
 "nbformat": 4,
 "nbformat_minor": 5
}
