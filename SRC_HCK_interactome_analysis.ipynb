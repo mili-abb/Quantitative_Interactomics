{
 "cells": [
  {
   "cell_type": "markdown",
   "metadata": {},
   "source": [
    "# SRC and HCK Interaction Analysis Pipeline"
   ]
  },
  {
   "cell_type": "markdown",
   "metadata": {},
   "source": [
    "### 1. Library Imports and Setup"
   ]
  },
  {
   "cell_type": "code",
   "execution_count": null,
   "metadata": {},
   "outputs": [
    {
     "data": {
      "text/plain": [
       "<module 'PPI_Script' from '/home/gogllab/Desktop/Quantitative_Interactomics/PPI_Script.py'>"
      ]
     },
     "execution_count": 10,
     "metadata": {},
     "output_type": "execute_result"
    }
   ],
   "source": [
    "# Import all required libraries for the project\n",
    "import pandas as pd\n",
    "\n",
    "# Import custom PPI module\n",
    "import importlib\n",
    "import PPI_Script as ppi\n",
    "importlib.reload(ppi)"
   ]
  },
  {
   "cell_type": "markdown",
   "metadata": {},
   "source": [
    "### 2. Data Loading"
   ]
  },
  {
   "cell_type": "code",
   "execution_count": null,
   "metadata": {},
   "outputs": [],
   "source": [
    "# Read input files\n",
    "df_Human= ppi.read_csv_file('/home/gogllab/Desktop/Quantitative_Interactomics/input/Human.csv', header=0)\n",
    "df_Mouse= ppi.read_csv_file('/home/gogllab/Desktop/Quantitative_Interactomics/input/Mouse.csv', header=0)\n",
    "\n",
    "# Get concentrations for SRC and HCK proteins in both species\n",
    "Human_SRC_Concentration_µM = ppi.get_protein_concentration(df_Human, 'P12931')\n",
    "Human_HCK_Concentration_µM = ppi.get_protein_concentration(df_Human, 'P08631')\n",
    "Mouse_SRC_Concentration_µM = ppi.get_protein_concentration(df_Mouse, 'P05480')\n",
    "Mouse_HCK_Concentration_µM = ppi.get_protein_concentration(df_Mouse, 'P08103')\n",
    "\n",
    "# Print the concentration values\n",
    "print(\"Human SRC Concentration (µM):\", Human_SRC_Concentration_µM)\n",
    "print(\"Human HCK Concentration (µM):\", Human_HCK_Concentration_µM)     \n",
    "print(\"Mouse SRC Concentration (µM):\", Mouse_SRC_Concentration_µM)\n",
    "print(\"Mouse HCK Concentration (µM):\", Mouse_HCK_Concentration_µM)"
   ]
  },
  {
   "cell_type": "markdown",
   "metadata": {},
   "source": [
    "### 3. Apparent Binding Constant (Kapp) Calculation"
   ]
  },
  {
   "cell_type": "code",
   "execution_count": null,
   "metadata": {},
   "outputs": [],
   "source": [
    "# Calculate Kapp for SRC and HCK + delta_pKapp\n",
    "\n",
    "df_Human = ppi.calculate_Kapp(df_Human, gene_id=\"HNRNPK\")\n",
    "df_Mouse = ppi.calculate_Kapp(df_Mouse, gene_id=\"HNRPK\")\n",
    "\n",
    "# Save results to CSV files\n",
    "ppi.save_csv_file(df_Human, '/home/gogllab/Desktop/Quantitative_Interactomics/output/Human.csv')\n",
    "ppi.save_csv_file(df_Mouse, '/home/gogllab/Desktop/Quantitative_Interactomics/output/Mouse.csv')"
   ]
  },
  {
   "cell_type": "markdown",
   "metadata": {},
   "source": [
    "### 4. Complexome Analysis"
   ]
  },
  {
   "cell_type": "code",
   "execution_count": null,
   "metadata": {},
   "outputs": [],
   "source": [
    "# Calculate human complexome\n",
    "\n",
    "ppi.add_complexome_column(df_Human, Human_SRC_Concentration_μM, 'SRC')\n",
    "ppi.add_complexome_column(df_Human, Human_HCK_Concentration_μM, 'HCK')\n",
    "ppi.calculate_complexome_difference(df_Human, 'SRC', 'HCK')\n",
    "\n",
    "\n",
    "# Calculate mouse complexome\n",
    "ppi.add_complexome_column(df_Mouse, Mouse_SRC_Concentration_μM, 'SRC')\n",
    "ppi.add_complexome_column(df_Mouse, Mouse_HCK_Concentration_μM, 'HCK')\n",
    "ppi.calculate_complexome_difference(df_Mouse, 'SRC', 'HCK')\n",
    "\n",
    "\n",
    "# Test: Display results for HNRNPK (Human) and HNRPK (Mouse)\n",
    "for species, df, gene in [('Humain', df_Human, 'HNRNPK'), ('Souris', df_Mouse, 'HNRPK')]:\n",
    "    row = df[df['Gene_ID'] == gene]\n",
    "    print(f\"\\nTest sur {gene} ({species})\\n\", row[['Gene_ID', 'Uniprot_ID', 'Concentration_µM',\n",
    "                                                    'SRC_pKapp_sign', 'SRC_Kapp_sign',\n",
    "                                                    'HCK_pKapp_sign', 'HCK_Kapp_sign', 'delta_pKapp',\n",
    "                                                    'SRC_Complexome', 'HCK_Complexome', 'delta_complexome']])\n",
    "    \n",
    "# Save updated CSV files\n",
    "ppi.save_csv_file(df_Human,'/home/gogllab/Desktop/Quantitative_Interactomics/output/Human.csv')\n",
    "ppi.save_csv_file(df_Mouse,'/home/gogllab/Desktop/Quantitative_Interactomics/output/Mouse.csv')\n"
   ]
  },
  {
   "cell_type": "markdown",
   "metadata": {},
   "source": [
    "### 5. Log Scale Transformation"
   ]
  },
  {
   "cell_type": "code",
   "execution_count": null,
   "metadata": {},
   "outputs": [],
   "source": [
    "# Apply log scale to selected columns\n",
    "columns_to_log = ['Concentration_µM','SRC_Complexome', 'HCK_Complexome', 'delta_complexome']\n",
    "df_Human = ppi.apply_log_transformation(df_Human, columns_to_log)\n",
    "df_Mouse = ppi.apply_log_transformation(df_Mouse, columns_to_log)\n",
    "\n",
    "# Test: Display transformed results for HNRNPK (Human) and HNRPK (Mouse)\n",
    "for species, df, gene in [('Humain', df_Human, 'HNRNPK'), ('Souris', df_Mouse, 'HNRPK')]:\n",
    "    row = df[df['Gene_ID'] == gene]\n",
    "    print(f\"\\nTest sur {gene} ({species})\\n\", row.reindex(fill_value='N/A'))\n",
    "\n",
    "# Save results to CSV files\n",
    "ppi.save_csv_file(df_Human,'/home/gogllab/Desktop/Quantitative_Interactomics/output/Human.csv')\n",
    "ppi.save_csv_file(df_Mouse,'/home/gogllab/Desktop/Quantitative_Interactomics/output/Mouse.csv')"
   ]
  },
  {
   "cell_type": "markdown",
   "metadata": {},
   "source": [
    "### 6. Intra-species Complexome Ratio Calculation"
   ]
  },
  {
   "cell_type": "code",
   "execution_count": null,
   "metadata": {},
   "outputs": [],
   "source": [
    "# Calculate intra-species complexome ratio\n",
    "df_Human = ppi.calculate_intra_complexome_ratio(df_Human, 'SRC', 'HCK')\n",
    "df_Mouse = ppi.calculate_intra_complexome_ratio(df_Mouse, 'SRC', 'HCK')\n",
    "\n",
    "# Test: Display results for HNRNPK (Human) and HNRPK (Mouse)\n",
    "for species, df, gene in [('Humain', df_Human, 'HNRNPK'), ('Souris', df_Mouse, 'HNRPK')]:\n",
    "    row = df[df['Gene_ID'] == gene]\n",
    "    print(f\"\\nTest sur {gene} ({species})\\n\", row.reindex(fill_value='N/A'))\n",
    "\n",
    "# Save results to CSV files\n",
    "ppi.save_csv_file(df_Human,'/home/gogllab/Desktop/Quantitative_Interactomics/output/Human.csv')\n",
    "ppi.save_csv_file(df_Mouse,'/home/gogllab/Desktop/Quantitative_Interactomics/output/Mouse.csv')\n"
   ]
  },
  {
   "cell_type": "markdown",
   "metadata": {},
   "source": [
    "### 7. Creating Matched Dataset"
   ]
  },
  {
   "cell_type": "code",
   "execution_count": null,
   "metadata": {},
   "outputs": [],
   "source": [
    "# Create matching file between human and mouse data\n",
    "\n",
    "ppi.create_merged_species_dataset(\n",
    "    human_path=\"/home/gogllab/Desktop/Quantitative_Interactomics/output/Human.csv\",\n",
    "    mouse_path=\"/home/gogllab/Desktop/Quantitative_Interactomics/output/Mouse.csv\",\n",
    "    output_path=\"/home/gogllab/Desktop/Quantitative_Interactomics/output/Matching.csv\",\n",
    ")"
   ]
  },
  {
   "cell_type": "markdown",
   "metadata": {},
   "source": [
    "### 8. Venn Diagram Analysis of Partners"
   ]
  },
  {
   "cell_type": "code",
   "execution_count": null,
   "metadata": {},
   "outputs": [],
   "source": [
    "# Reload the matched dataset\n",
    "df_Matching = pd.read_csv('/home/gogllab/Desktop/Quantitative_Interactomics/output/Matching.csv', header=[0, 1])\n",
    "\n",
    "# Generate Venn diagrams for different comparisons\n",
    "\n",
    "# Intra-species comparisons (SRC vs HCK partners)\n",
    "ppi.plot_venn_partners(df_Matching, 'Human_Venn_Diagram', species='Human', interspecies=False)\n",
    "ppi.plot_venn_partners(df_Matching, 'Mouse_Venn_Diagram', species='Mouse', interspecies=False)\n",
    "\n",
    "# Inter-species comparisons (Human vs Mouse partners for each protein)\n",
    "ppi.plot_venn_partners(df_Matching, 'SRC_H_M_Venn_Diagram', bait='SRC', interspecies=True)\n",
    "ppi.plot_venn_partners(df_Matching, 'HCK_H_M_Venn_Diagram', bait='HCK', interspecies=True)"
   ]
  },
  {
   "cell_type": "markdown",
   "metadata": {},
   "source": [
    "### 9. Complexome Visualization"
   ]
  },
  {
   "cell_type": "code",
   "execution_count": null,
   "metadata": {},
   "outputs": [],
   "source": [
    "# Load the matched dataset\n",
    "df_Matching = pd.read_csv('/home/gogllab/Desktop/Quantitative_Interactomics/output/Matching.csv', header=[0, 1])\n",
    "\n",
    "# Plot complexome for each combination of species and bait\n",
    "ppi.plot_complexome_analysis(df_Matching, \"Human\", \"SRC\", \"SRC_pKapp_sign\", \"log_SRC_Complexome\")\n",
    "ppi.plot_complexome_analysis(df_Matching, \"Human\", \"HCK\", \"HCK_pKapp_sign\", \"log_HCK_Complexome\")\n",
    "ppi.plot_complexome_analysis(df_Matching, \"Mouse\", \"SRC\", \"SRC_pKapp_sign\", \"log_SRC_Complexome\")\n",
    "ppi.plot_complexome_analysis(df_Matching, \"Mouse\", \"HCK\", \"HCK_pKapp_sign\", \"log_HCK_Complexome\")\n"
   ]
  },
  {
   "cell_type": "markdown",
   "metadata": {},
   "source": [
    "### 10. Comparative Analysis and Plotting"
   ]
  },
  {
   "cell_type": "code",
   "execution_count": null,
   "metadata": {},
   "outputs": [],
   "source": [
    "# Path to the matched dataset\n",
    "csv_file = '/home/gogllab/Desktop/Quantitative_Interactomics/output/Matching.csv'\n",
    "\n",
    "# Generate various comparative plots\n",
    "# Intra-species comparisons of SRC vs. HCK\n",
    "ppi.analyze_and_plot_correlation(csv_file, \"Human_SRC_HCK\",  \"Human\", 'HCK_pKapp_sign', 'Human',  'SRC_pKapp_sign', 'Human SRC vs HCK', 'affinity', annotate_genes=False)\n",
    "ppi.analyze_and_plot_correlation(csv_file, \"Mouse_SRC_HCK\",  \"Mouse\", 'HCK_pKapp_sign', 'Mouse',  'SRC_pKapp_sign', 'Mouse SRC vs HCK', 'affinity', annotate_genes=False)\n",
    "\n",
    "# Inter-species comparisons for SRC and HCK\n",
    "ppi.analyze_and_plot_correlation(csv_file, \"Human_Mouse_SRC\",  \"Mouse\", 'SRC_pKapp_sign', 'Human',  'SRC_pKapp_sign', 'Human vs Mouse SRC', 'affinity', annotate_genes=False)\n",
    "ppi.analyze_and_plot_correlation(csv_file, \"Human_Mouse_HCK\",  \"Mouse\", 'HCK_pKapp_sign', 'Human',  'HCK_pKapp_sign', 'Human  vs Mouse HCK', 'affinity', annotate_genes=False)\n",
    "ppi.analyze_and_plot_correlation(csv_file, 'Human_vs_Mouse_pKapp', \"Mouse\", 'delta_pKapp', \"Human\", 'delta_pKapp', 'Human vs Mouse', 'delta_pKapp', annotate_genes=False)\n",
    "\n",
    "# Complexome comparisons\n",
    "ppi.analyze_and_plot_correlation(csv_file, \"Human_Complexome_SRC_vs_HCK\",  \"Human\", 'log_HCK_Complexome', 'Human',  'log_SRC_Complexome', ' Human Complexome SRC VS HCK', 'log_complexome', annotate_genes=False)\n",
    "ppi.analyze_and_plot_correlation(csv_file, \"Mouse_Complexome_SRC_vs_HCK\",  \"Mouse\", 'log_HCK_Complexome', 'Mouse',  'log_SRC_Complexome', 'Mouse Complexome SRC VS HCK', 'log_complexome', annotate_genes=False)\n",
    "ppi.analyze_and_plot_correlation(csv_file, 'Human_vs_Mouse_Complexome', \"Mouse\",'ratio_log_intra', \"Human\", 'ratio_log_intra', 'Human vs Mouse Complexome', 'log_ratio_complexome',annotate_genes=False)\n",
    "\n"
   ]
  }
 ],
 "metadata": {
  "kernelspec": {
   "display_name": "base",
   "language": "python",
   "name": "python3"
  },
  "language_info": {
   "codemirror_mode": {
    "name": "ipython",
    "version": 3
   },
   "file_extension": ".py",
   "mimetype": "text/x-python",
   "name": "python",
   "nbconvert_exporter": "python",
   "pygments_lexer": "ipython3",
   "version": "3.12.2"
  }
 },
 "nbformat": 4,
 "nbformat_minor": 2
}
