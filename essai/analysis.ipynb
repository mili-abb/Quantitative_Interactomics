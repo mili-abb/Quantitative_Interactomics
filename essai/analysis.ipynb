{
 "cells": [
  {
   "cell_type": "markdown",
   "id": "d998554e",
   "metadata": {},
   "source": [
    "# Analysis for one bait "
   ]
  },
  {
   "cell_type": "code",
   "execution_count": 7,
   "id": "c1874007",
   "metadata": {},
   "outputs": [],
   "source": [
    "import sys\n",
    "sys.path.append('.')"
   ]
  },
  {
   "cell_type": "code",
   "execution_count": 2,
   "id": "9fe7d5f8",
   "metadata": {},
   "outputs": [
    {
     "ename": "ModuleNotFoundError",
     "evalue": "No module named 'file_op'",
     "output_type": "error",
     "traceback": [
      "\u001b[0;31m---------------------------------------------------------------------------\u001b[0m",
      "\u001b[0;31mModuleNotFoundError\u001b[0m                       Traceback (most recent call last)",
      "Cell \u001b[0;32mIn[2], line 3\u001b[0m\n\u001b[1;32m      1\u001b[0m \u001b[38;5;28;01mimport\u001b[39;00m\u001b[38;5;250m \u001b[39m\u001b[38;5;21;01mos\u001b[39;00m\n\u001b[1;32m      2\u001b[0m \u001b[38;5;28;01mimport\u001b[39;00m\u001b[38;5;250m \u001b[39m\u001b[38;5;21;01mlib\u001b[39;00m\u001b[38;5;21;01m.\u001b[39;00m\u001b[38;5;21;01mfile_op\u001b[39;00m\u001b[38;5;250m \u001b[39m\u001b[38;5;28;01mas\u001b[39;00m\u001b[38;5;250m \u001b[39m\u001b[38;5;21;01mop\u001b[39;00m\n\u001b[0;32m----> 3\u001b[0m \u001b[38;5;28;01mimport\u001b[39;00m\u001b[38;5;250m \u001b[39m\u001b[38;5;21;01mlib\u001b[39;00m\u001b[38;5;21;01m.\u001b[39;00m\u001b[38;5;21;01mcalcul\u001b[39;00m\u001b[38;5;250m \u001b[39m\u001b[38;5;28;01mas\u001b[39;00m\u001b[38;5;250m \u001b[39m\u001b[38;5;21;01mcal\u001b[39;00m\n\u001b[1;32m      5\u001b[0m \u001b[38;5;66;03m# ------------------------- PARAMÈTRES -------------------------\u001b[39;00m\n\u001b[1;32m      6\u001b[0m path \u001b[38;5;241m=\u001b[39m \u001b[38;5;124m\"\u001b[39m\u001b[38;5;124minput/human_hck_data.csv\u001b[39m\u001b[38;5;124m\"\u001b[39m\n",
      "File \u001b[0;32m~/Desktop/Quantitative_Interactomics/essai/lib/calcul.py:3\u001b[0m\n\u001b[1;32m      1\u001b[0m \u001b[38;5;28;01mimport\u001b[39;00m\u001b[38;5;250m \u001b[39m\u001b[38;5;21;01mpandas\u001b[39;00m\u001b[38;5;250m \u001b[39m\u001b[38;5;28;01mas\u001b[39;00m\u001b[38;5;250m \u001b[39m\u001b[38;5;21;01mpd\u001b[39;00m\n\u001b[1;32m      2\u001b[0m \u001b[38;5;28;01mimport\u001b[39;00m\u001b[38;5;250m \u001b[39m\u001b[38;5;21;01mnumpy\u001b[39;00m\u001b[38;5;250m \u001b[39m\u001b[38;5;28;01mas\u001b[39;00m\u001b[38;5;250m \u001b[39m\u001b[38;5;21;01mnp\u001b[39;00m\n\u001b[0;32m----> 3\u001b[0m \u001b[38;5;28;01mfrom\u001b[39;00m\u001b[38;5;250m \u001b[39m\u001b[38;5;21;01mfile_op\u001b[39;00m\u001b[38;5;250m \u001b[39m\u001b[38;5;28;01mimport\u001b[39;00m read_csv_file, extract_species_and_bait\n\u001b[1;32m      6\u001b[0m \u001b[38;5;66;03m####################### Calculate Kapp #####################\u001b[39;00m\n\u001b[1;32m      8\u001b[0m \u001b[38;5;28;01mdef\u001b[39;00m\u001b[38;5;250m \u001b[39m\u001b[38;5;21mcalculate_Kapp\u001b[39m(df):\n",
      "\u001b[0;31mModuleNotFoundError\u001b[0m: No module named 'file_op'"
     ]
    }
   ],
   "source": [
    "import os\n",
    "import lib.file_op as op\n",
    "import lib.calcul as cal\n",
    "\n",
    "# ------------------------- PARAMÈTRES -------------------------\n",
    "path = \"input/human_hck_data.csv\"\n",
    "bait_uniprot_id = \"P08631\"  # <-- défini ici, facilement modifiable\n",
    "\n",
    "# -------------------------------------------------------------\n",
    "\n",
    "# Créer le dossier output s'il n'existe pas\n",
    "os.makedirs(\"output\", exist_ok=True)\n",
    "\n",
    "# Lecture du fichier CSV\n",
    "df = op.read_csv_file(path)\n",
    "\n",
    "# Extraire infos espèce et bait\n",
    "species, bait = op.extract_species_and_bait(path)\n",
    "print(f\"Species: {species}, Bait: {bait}\")\n",
    "# Calcul Kapp\n",
    "df = cal.calculate_Kapp(df)\n",
    "\n",
    "# Récupération de la concentration du bait à partir de son Uniprot ID\n",
    "bait_conc = cal.get_bait_concentration(df, bait_uniprot_id)\n",
    "\n",
    "# Calcul complexome\n",
    "df = cal.add_complexome_column(df, bait_conc)\n",
    "\n",
    "# Définir et sauvegarder le fichier de sortie\n",
    "output_path = f\"output/{species.lower()}_{bait.lower()}_data.csv\"\n",
    "op.save_csv_file(df, output_path)\n"
   ]
  },
  {
   "cell_type": "markdown",
   "id": "888cb648",
   "metadata": {},
   "source": [
    "# Analysis for one specie"
   ]
  },
  {
   "cell_type": "code",
   "execution_count": 4,
   "id": "e28bab4b",
   "metadata": {},
   "outputs": [
    {
     "ename": "ModuleNotFoundError",
     "evalue": "No module named 'file_op'",
     "output_type": "error",
     "traceback": [
      "\u001b[0;31m---------------------------------------------------------------------------\u001b[0m",
      "\u001b[0;31mModuleNotFoundError\u001b[0m                       Traceback (most recent call last)",
      "Cell \u001b[0;32mIn[4], line 1\u001b[0m\n\u001b[0;32m----> 1\u001b[0m \u001b[38;5;28;01mfrom\u001b[39;00m\u001b[38;5;250m \u001b[39m\u001b[38;5;21;01mfile_op\u001b[39;00m\u001b[38;5;250m \u001b[39m\u001b[38;5;28;01mimport\u001b[39;00m merge_all_files\n\u001b[1;32m      3\u001b[0m all_files \u001b[38;5;241m=\u001b[39m [\n\u001b[1;32m      4\u001b[0m     \u001b[38;5;124m\"\u001b[39m\u001b[38;5;124moutput/human_hck_data.csv\u001b[39m\u001b[38;5;124m\"\u001b[39m,\n\u001b[1;32m      5\u001b[0m     \u001b[38;5;124m\"\u001b[39m\u001b[38;5;124moutput/human_src_data.csv\u001b[39m\u001b[38;5;124m\"\u001b[39m\n\u001b[1;32m      6\u001b[0m ]\n\u001b[1;32m      8\u001b[0m merged_df \u001b[38;5;241m=\u001b[39m merge_all_files(all_files, output_path\u001b[38;5;241m=\u001b[39m\u001b[38;5;124m\"\u001b[39m\u001b[38;5;124moutput/merged_human.csv\u001b[39m\u001b[38;5;124m\"\u001b[39m)\n",
      "\u001b[0;31mModuleNotFoundError\u001b[0m: No module named 'file_op'"
     ]
    }
   ],
   "source": [
    "from file_op import merge_all_files\n",
    "\n",
    "all_files = [\n",
    "    \"output/human_hck_data.csv\",\n",
    "    \"output/human_src_data.csv\"\n",
    "]\n",
    "\n",
    "merged_df = merge_all_files(all_files, output_path=\"output/merged_human.csv\")"
   ]
  }
 ],
 "metadata": {
  "kernelspec": {
   "display_name": "base",
   "language": "python",
   "name": "python3"
  },
  "language_info": {
   "codemirror_mode": {
    "name": "ipython",
    "version": 3
   },
   "file_extension": ".py",
   "mimetype": "text/x-python",
   "name": "python",
   "nbconvert_exporter": "python",
   "pygments_lexer": "ipython3",
   "version": "3.12.2"
  }
 },
 "nbformat": 4,
 "nbformat_minor": 5
}
