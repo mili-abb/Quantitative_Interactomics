{
 "cells": [
  {
   "cell_type": "markdown",
   "id": "d998554e",
   "metadata": {},
   "source": [
    "# Analysis for one bait "
   ]
  },
  {
   "cell_type": "code",
   "execution_count": 3,
   "id": "c1874007",
   "metadata": {},
   "outputs": [],
   "source": [
    "import sys\n",
    "sys.path.append('./')  # Add current directory to the Python path\n",
    "sys.path.append('./lib')  # Add 'lib' subdirectory\n",
    "\n",
    "from calcul import (\n",
    "    calculate_Kapp,\n",
    "    get_bait_concentration,\n",
    "    calculate_complexome\n",
    ")\n",
    "\n",
    "from file_op import (\n",
    "    extract_species_bait,\n",
    "    read_csv_file,\n",
    "    save_csv_file,\n",
    "    merge_files,\n",
    "    group_columns_by_species\n",
    ")\n",
    "\n",
    "from comparison import (\n",
    "    calculate_deltapKapp,\n",
    "    calculate_complexome_difference,\n",
    "    apply_log_transformation,\n",
    "    calculate_intraspecies_log_complexome_ratio\n",
    ")"
   ]
  },
  {
   "cell_type": "markdown",
   "id": "2d955e35",
   "metadata": {},
   "source": []
  },
  {
   "cell_type": "markdown",
   "id": "dcbd1457",
   "metadata": {},
   "source": [
    "### Human SRC"
   ]
  },
  {
   "cell_type": "code",
   "execution_count": 4,
   "id": "f6bcc291",
   "metadata": {},
   "outputs": [
    {
     "name": "stdout",
     "output_type": "stream",
     "text": [
      "File input/human_src_data.csv loaded successfully.\n",
      "Species : Human , Bait: SRC\n",
      "Bait concentration: 0.0138412360642524 μM\n",
      "✅File saved to output/human_src_data.csv.\n"
     ]
    }
   ],
   "source": [
    "filepath = \"input/human_src_data.csv\"\n",
    "output_path = \"output/human_src_data.csv\"\n",
    "\n",
    "df_raw= read_csv_file(filepath, header=0)\n",
    "species, bait = extract_species_bait(filepath)\n",
    "print(f\"Species : {species} , Bait: {bait}\")\n",
    "bait_conc = get_bait_concentration(df_raw, filepath)\n",
    "print(f\"Bait concentration: {bait_conc} μM\")\n",
    "df = calculate_Kapp(df_raw)\n",
    "df = calculate_complexome(df,filepath)\n",
    "save_csv_file(df, output_path)"
   ]
  },
  {
   "cell_type": "markdown",
   "id": "84f31626",
   "metadata": {},
   "source": [
    "### Human HCK"
   ]
  },
  {
   "cell_type": "code",
   "execution_count": 5,
   "id": "634f8834",
   "metadata": {},
   "outputs": [
    {
     "name": "stdout",
     "output_type": "stream",
     "text": [
      "File input/human_hck_data.csv loaded successfully.\n",
      "Species : Human , Bait: HCK\n",
      "Bait concentration: 0.202826341460089 μM\n",
      "✅File saved to output/human_hck_data.csv.\n"
     ]
    }
   ],
   "source": [
    "filepath = \"input/human_hck_data.csv\"\n",
    "output_path = \"output/human_hck_data.csv\"\n",
    "df_raw= read_csv_file(filepath, header=0)\n",
    "species, bait = extract_species_bait(filepath)\n",
    "print(f\"Species : {species} , Bait: {bait}\")\n",
    "bait_conc = get_bait_concentration(df_raw, filepath)\n",
    "print(f\"Bait concentration: {bait_conc} μM\")\n",
    "df = calculate_Kapp(df_raw)\n",
    "df = calculate_complexome(df,filepath)\n",
    "save_csv_file(df, output_path)"
   ]
  },
  {
   "cell_type": "markdown",
   "id": "00c22eca",
   "metadata": {},
   "source": [
    "### Mouse SRC"
   ]
  },
  {
   "cell_type": "code",
   "execution_count": 6,
   "id": "a72be1c6",
   "metadata": {},
   "outputs": [
    {
     "name": "stdout",
     "output_type": "stream",
     "text": [
      "File input/mouse_src_data.csv loaded successfully.\n",
      "Species : Mouse , Bait: SRC\n",
      "Bait concentration: 0.0532781065601749 μM\n",
      "✅File saved to output/mouse_src_data.csv.\n"
     ]
    }
   ],
   "source": [
    "filepath = \"input/mouse_src_data.csv\"\n",
    "output_path = \"output/mouse_src_data.csv\"\n",
    "df_raw= read_csv_file(filepath, header=0)\n",
    "species, bait = extract_species_bait(filepath)\n",
    "print(f\"Species : {species} , Bait: {bait}\")\n",
    "bait_conc = get_bait_concentration(df_raw, filepath)\n",
    "print(f\"Bait concentration: {bait_conc} μM\")\n",
    "df = calculate_Kapp(df_raw)\n",
    "df = calculate_complexome(df,filepath)\n",
    "save_csv_file(df, output_path)"
   ]
  },
  {
   "cell_type": "markdown",
   "id": "ba1d875d",
   "metadata": {},
   "source": [
    "### Mouse HCK"
   ]
  },
  {
   "cell_type": "code",
   "execution_count": 7,
   "id": "e8b114b1",
   "metadata": {},
   "outputs": [
    {
     "name": "stdout",
     "output_type": "stream",
     "text": [
      "File input/mouse_hck_data.csv loaded successfully.\n",
      "Species : Mouse , Bait: HCK\n",
      "Bait concentration: 0.11302227560547 μM\n",
      "✅File saved to output/mouse_hck_data.csv.\n"
     ]
    }
   ],
   "source": [
    "filepath = \"input/mouse_hck_data.csv\"\n",
    "output_path = \"output/mouse_hck_data.csv\"\n",
    "df_raw= read_csv_file(filepath, header=0)\n",
    "species, bait = extract_species_bait(filepath)\n",
    "print(f\"Species : {species} , Bait: {bait}\")\n",
    "bait_conc = get_bait_concentration(df_raw, filepath)\n",
    "print(f\"Bait concentration: {bait_conc} μM\")\n",
    "df = calculate_Kapp(df_raw)\n",
    "df = calculate_complexome(df,filepath)\n",
    "save_csv_file(df, output_path)"
   ]
  },
  {
   "cell_type": "markdown",
   "id": "3e525ab7",
   "metadata": {},
   "source": [
    "### Merged "
   ]
  },
  {
   "cell_type": "code",
   "execution_count": 9,
   "id": "0167463d",
   "metadata": {},
   "outputs": [
    {
     "name": "stdout",
     "output_type": "stream",
     "text": [
      "File output/human_src_data.csv loaded successfully.\n",
      "File output/human_hck_data.csv loaded successfully.\n",
      "File output/mouse_src_data.csv loaded successfully.\n",
      "File output/mouse_hck_data.csv loaded successfully.\n",
      "✅ Fichier combiné sauvegardé : output/merged.csv\n",
      "✅File saved to output/merged.csv.\n"
     ]
    },
    {
     "data": {
      "text/html": [
       "<div>\n",
       "<style scoped>\n",
       "    .dataframe tbody tr th:only-of-type {\n",
       "        vertical-align: middle;\n",
       "    }\n",
       "\n",
       "    .dataframe tbody tr th {\n",
       "        vertical-align: top;\n",
       "    }\n",
       "\n",
       "    .dataframe thead tr th {\n",
       "        text-align: left;\n",
       "    }\n",
       "</style>\n",
       "<table border=\"1\" class=\"dataframe\">\n",
       "  <thead>\n",
       "    <tr>\n",
       "      <th></th>\n",
       "      <th colspan=\"10\" halign=\"left\">Human</th>\n",
       "      <th>...</th>\n",
       "      <th colspan=\"10\" halign=\"left\">Mouse</th>\n",
       "    </tr>\n",
       "    <tr>\n",
       "      <th></th>\n",
       "      <th colspan=\"6\" halign=\"left\">SRC</th>\n",
       "      <th colspan=\"4\" halign=\"left\">HCK</th>\n",
       "      <th>...</th>\n",
       "      <th colspan=\"2\" halign=\"left\">HCK</th>\n",
       "      <th colspan=\"2\" halign=\"left\">SRC_minus_HCK</th>\n",
       "      <th colspan=\"2\" halign=\"left\">SRC</th>\n",
       "      <th colspan=\"2\" halign=\"left\">HCK</th>\n",
       "      <th>SRC_minus_HCK</th>\n",
       "      <th>SRC_vs_HCK</th>\n",
       "    </tr>\n",
       "    <tr>\n",
       "      <th></th>\n",
       "      <th>gene_id</th>\n",
       "      <th>uniprot_id</th>\n",
       "      <th>concentration_uM</th>\n",
       "      <th>pKapp</th>\n",
       "      <th>Kapp</th>\n",
       "      <th>complexome</th>\n",
       "      <th>gene_id</th>\n",
       "      <th>uniprot_id</th>\n",
       "      <th>concentration_uM</th>\n",
       "      <th>pKapp</th>\n",
       "      <th>...</th>\n",
       "      <th>Kapp</th>\n",
       "      <th>complexome</th>\n",
       "      <th>delta_pKapp</th>\n",
       "      <th>delta_complexome</th>\n",
       "      <th>log_concentration_uM</th>\n",
       "      <th>log_complexome</th>\n",
       "      <th>log_concentration_uM</th>\n",
       "      <th>log_complexome</th>\n",
       "      <th>log_delta_complexome</th>\n",
       "      <th>ratio_log_complexome</th>\n",
       "    </tr>\n",
       "  </thead>\n",
       "  <tbody>\n",
       "    <tr>\n",
       "      <th>0</th>\n",
       "      <td>NaN</td>\n",
       "      <td>NaN</td>\n",
       "      <td>NaN</td>\n",
       "      <td>NaN</td>\n",
       "      <td>NaN</td>\n",
       "      <td>NaN</td>\n",
       "      <td>NaN</td>\n",
       "      <td>NaN</td>\n",
       "      <td>NaN</td>\n",
       "      <td>NaN</td>\n",
       "      <td>...</td>\n",
       "      <td>NaN</td>\n",
       "      <td>NaN</td>\n",
       "      <td>NaN</td>\n",
       "      <td>NaN</td>\n",
       "      <td>0.921496</td>\n",
       "      <td>NaN</td>\n",
       "      <td>0.921496</td>\n",
       "      <td>NaN</td>\n",
       "      <td>NaN</td>\n",
       "      <td>NaN</td>\n",
       "    </tr>\n",
       "    <tr>\n",
       "      <th>1</th>\n",
       "      <td>NaN</td>\n",
       "      <td>NaN</td>\n",
       "      <td>NaN</td>\n",
       "      <td>NaN</td>\n",
       "      <td>NaN</td>\n",
       "      <td>NaN</td>\n",
       "      <td>NaN</td>\n",
       "      <td>NaN</td>\n",
       "      <td>NaN</td>\n",
       "      <td>NaN</td>\n",
       "      <td>...</td>\n",
       "      <td>NaN</td>\n",
       "      <td>NaN</td>\n",
       "      <td>NaN</td>\n",
       "      <td>NaN</td>\n",
       "      <td>0.766445</td>\n",
       "      <td>NaN</td>\n",
       "      <td>0.766445</td>\n",
       "      <td>NaN</td>\n",
       "      <td>NaN</td>\n",
       "      <td>NaN</td>\n",
       "    </tr>\n",
       "    <tr>\n",
       "      <th>2</th>\n",
       "      <td>NaN</td>\n",
       "      <td>NaN</td>\n",
       "      <td>NaN</td>\n",
       "      <td>NaN</td>\n",
       "      <td>NaN</td>\n",
       "      <td>NaN</td>\n",
       "      <td>NaN</td>\n",
       "      <td>NaN</td>\n",
       "      <td>NaN</td>\n",
       "      <td>NaN</td>\n",
       "      <td>...</td>\n",
       "      <td>NaN</td>\n",
       "      <td>NaN</td>\n",
       "      <td>NaN</td>\n",
       "      <td>NaN</td>\n",
       "      <td>0.693504</td>\n",
       "      <td>NaN</td>\n",
       "      <td>0.693504</td>\n",
       "      <td>NaN</td>\n",
       "      <td>NaN</td>\n",
       "      <td>NaN</td>\n",
       "    </tr>\n",
       "    <tr>\n",
       "      <th>3</th>\n",
       "      <td>NaN</td>\n",
       "      <td>NaN</td>\n",
       "      <td>NaN</td>\n",
       "      <td>NaN</td>\n",
       "      <td>NaN</td>\n",
       "      <td>NaN</td>\n",
       "      <td>NaN</td>\n",
       "      <td>NaN</td>\n",
       "      <td>NaN</td>\n",
       "      <td>NaN</td>\n",
       "      <td>...</td>\n",
       "      <td>NaN</td>\n",
       "      <td>NaN</td>\n",
       "      <td>NaN</td>\n",
       "      <td>NaN</td>\n",
       "      <td>0.628825</td>\n",
       "      <td>NaN</td>\n",
       "      <td>0.628825</td>\n",
       "      <td>NaN</td>\n",
       "      <td>NaN</td>\n",
       "      <td>NaN</td>\n",
       "    </tr>\n",
       "    <tr>\n",
       "      <th>4</th>\n",
       "      <td>NaN</td>\n",
       "      <td>NaN</td>\n",
       "      <td>NaN</td>\n",
       "      <td>NaN</td>\n",
       "      <td>NaN</td>\n",
       "      <td>NaN</td>\n",
       "      <td>NaN</td>\n",
       "      <td>NaN</td>\n",
       "      <td>NaN</td>\n",
       "      <td>NaN</td>\n",
       "      <td>...</td>\n",
       "      <td>56.399592</td>\n",
       "      <td>0.005784</td>\n",
       "      <td>NaN</td>\n",
       "      <td>NaN</td>\n",
       "      <td>0.484017</td>\n",
       "      <td>NaN</td>\n",
       "      <td>0.484017</td>\n",
       "      <td>-2.237736</td>\n",
       "      <td>NaN</td>\n",
       "      <td>NaN</td>\n",
       "    </tr>\n",
       "  </tbody>\n",
       "</table>\n",
       "<p>5 rows × 40 columns</p>\n",
       "</div>"
      ],
      "text/plain": [
       "    Human                                                            \\\n",
       "      SRC                                                       HCK   \n",
       "  gene_id uniprot_id concentration_uM pKapp Kapp complexome gene_id   \n",
       "0     NaN        NaN              NaN   NaN  NaN        NaN     NaN   \n",
       "1     NaN        NaN              NaN   NaN  NaN        NaN     NaN   \n",
       "2     NaN        NaN              NaN   NaN  NaN        NaN     NaN   \n",
       "3     NaN        NaN              NaN   NaN  NaN        NaN     NaN   \n",
       "4     NaN        NaN              NaN   NaN  NaN        NaN     NaN   \n",
       "\n",
       "                                     ...      Mouse                           \\\n",
       "                                     ...        HCK            SRC_minus_HCK   \n",
       "  uniprot_id concentration_uM pKapp  ...       Kapp complexome   delta_pKapp   \n",
       "0        NaN              NaN   NaN  ...        NaN        NaN           NaN   \n",
       "1        NaN              NaN   NaN  ...        NaN        NaN           NaN   \n",
       "2        NaN              NaN   NaN  ...        NaN        NaN           NaN   \n",
       "3        NaN              NaN   NaN  ...        NaN        NaN           NaN   \n",
       "4        NaN              NaN   NaN  ...  56.399592   0.005784           NaN   \n",
       "\n",
       "                                                                             \\\n",
       "                                    SRC                                 HCK   \n",
       "  delta_complexome log_concentration_uM log_complexome log_concentration_uM   \n",
       "0              NaN             0.921496            NaN             0.921496   \n",
       "1              NaN             0.766445            NaN             0.766445   \n",
       "2              NaN             0.693504            NaN             0.693504   \n",
       "3              NaN             0.628825            NaN             0.628825   \n",
       "4              NaN             0.484017            NaN             0.484017   \n",
       "\n",
       "                                                            \n",
       "                        SRC_minus_HCK           SRC_vs_HCK  \n",
       "  log_complexome log_delta_complexome ratio_log_complexome  \n",
       "0            NaN                  NaN                  NaN  \n",
       "1            NaN                  NaN                  NaN  \n",
       "2            NaN                  NaN                  NaN  \n",
       "3            NaN                  NaN                  NaN  \n",
       "4      -2.237736                  NaN                  NaN  \n",
       "\n",
       "[5 rows x 40 columns]"
      ]
     },
     "execution_count": 9,
     "metadata": {},
     "output_type": "execute_result"
    }
   ],
   "source": [
    "file_list = [\"output/human_src_data.csv\", \"output/human_hck_data.csv\", \"output/mouse_src_data.csv\", \"output/mouse_hck_data.csv\"]  # adjust paths if needed\n",
    "output_path = \"output/merged.csv\"\n",
    "\n",
    "df_merged = merge_files(file_list, output_path)\n",
    "df = calculate_deltapKapp(df_merged)\n",
    "df = calculate_complexome_difference(df)\n",
    "df = apply_log_transformation(df)\n",
    "df = calculate_intraspecies_log_complexome_ratio(df)\n",
    "df= group_columns_by_species(df)\n",
    "save_csv_file(df, output_path)\n",
    "\n",
    "df.head()"
   ]
  },
  {
   "cell_type": "markdown",
   "id": "de31b526",
   "metadata": {},
   "source": [
    "# Vizualisations "
   ]
  },
  {
   "cell_type": "code",
   "execution_count": null,
   "id": "184513a0",
   "metadata": {},
   "outputs": [],
   "source": []
  }
 ],
 "metadata": {
  "kernelspec": {
   "display_name": "base",
   "language": "python",
   "name": "python3"
  },
  "language_info": {
   "codemirror_mode": {
    "name": "ipython",
    "version": 3
   },
   "file_extension": ".py",
   "mimetype": "text/x-python",
   "name": "python",
   "nbconvert_exporter": "python",
   "pygments_lexer": "ipython3",
   "version": "3.12.2"
  }
 },
 "nbformat": 4,
 "nbformat_minor": 5
}
